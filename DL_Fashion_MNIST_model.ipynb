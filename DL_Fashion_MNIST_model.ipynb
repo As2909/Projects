{
  "nbformat": 4,
  "nbformat_minor": 0,
  "metadata": {
    "colab": {
      "provenance": [],
      "gpuType": "T4",
      "authorship_tag": "ABX9TyP/BDs7KYlHqPR/win/Ysa7",
      "include_colab_link": true
    },
    "kernelspec": {
      "name": "python3",
      "display_name": "Python 3"
    },
    "language_info": {
      "name": "python"
    },
    "accelerator": "GPU"
  },
  "cells": [
    {
      "cell_type": "markdown",
      "metadata": {
        "id": "view-in-github",
        "colab_type": "text"
      },
      "source": [
        "<a href=\"https://colab.research.google.com/github/As2909/Projects/blob/main/DL_Fashion_MNIST_model.ipynb\" target=\"_parent\"><img src=\"https://colab.research.google.com/assets/colab-badge.svg\" alt=\"Open In Colab\"/></a>"
      ]
    },
    {
      "cell_type": "markdown",
      "source": [
        "Seeding for reproducibility"
      ],
      "metadata": {
        "id": "dk7Ov0kcehlW"
      }
    },
    {
      "cell_type": "code",
      "execution_count": 1,
      "metadata": {
        "id": "pva5AcCkeUpt"
      },
      "outputs": [],
      "source": [
        "import random\n",
        "random.seed(12)\n",
        "\n",
        "import numpy as np\n",
        "np.random.seed(12)\n",
        "\n",
        "import tensorflow as tf\n",
        "tf.random.set_seed(12)"
      ]
    },
    {
      "cell_type": "markdown",
      "source": [
        "Import the dependencies"
      ],
      "metadata": {
        "id": "fqwzd-09fW6C"
      }
    },
    {
      "cell_type": "code",
      "source": [
        "from tensorflow.keras import datasets, layers, models\n",
        "import matplotlib.pyplot as plt\n"
      ],
      "metadata": {
        "id": "NEDvlRP4e4fS"
      },
      "execution_count": 2,
      "outputs": []
    },
    {
      "cell_type": "markdown",
      "source": [
        "Data Curation"
      ],
      "metadata": {
        "id": "qFOLlUK2foL9"
      }
    },
    {
      "cell_type": "code",
      "source": [
        "# load and prepare the Fashion MNIST dataset\n",
        "fashion_mnist = datasets.fashion_mnist\n"
      ],
      "metadata": {
        "id": "reM6zjFDfmIZ"
      },
      "execution_count": 3,
      "outputs": []
    },
    {
      "cell_type": "code",
      "source": [
        "(train_images, train_labels), (test_images, test_labels) = fashion_mnist.load_data()"
      ],
      "metadata": {
        "id": "jxw13g2Kf3hi"
      },
      "execution_count": 4,
      "outputs": []
    },
    {
      "cell_type": "markdown",
      "source": [
        "Data Preprocessing"
      ],
      "metadata": {
        "id": "CYCmE6nSgVew"
      }
    },
    {
      "cell_type": "code",
      "source": [
        "type(train_images), type(train_labels)"
      ],
      "metadata": {
        "colab": {
          "base_uri": "https://localhost:8080/"
        },
        "id": "qTBIHiBXf6_p",
        "outputId": "f622a9de-d1ca-4b05-8433-98cdb242ace6"
      },
      "execution_count": 5,
      "outputs": [
        {
          "output_type": "execute_result",
          "data": {
            "text/plain": [
              "(numpy.ndarray, numpy.ndarray)"
            ]
          },
          "metadata": {},
          "execution_count": 5
        }
      ]
    },
    {
      "cell_type": "code",
      "source": [
        "len(train_images), len(train_labels)"
      ],
      "metadata": {
        "colab": {
          "base_uri": "https://localhost:8080/"
        },
        "id": "zlvlt-bJgdQT",
        "outputId": "7f03f09c-a0d8-40fa-cb2f-379e4db25e68"
      },
      "execution_count": 6,
      "outputs": [
        {
          "output_type": "execute_result",
          "data": {
            "text/plain": [
              "(60000, 60000)"
            ]
          },
          "metadata": {},
          "execution_count": 6
        }
      ]
    },
    {
      "cell_type": "code",
      "source": [
        "len(test_images), len(test_labels)"
      ],
      "metadata": {
        "colab": {
          "base_uri": "https://localhost:8080/"
        },
        "id": "tIfanADvij_Q",
        "outputId": "05f24305-4079-480d-e7b1-edc1c01b41e5"
      },
      "execution_count": 7,
      "outputs": [
        {
          "output_type": "execute_result",
          "data": {
            "text/plain": [
              "(10000, 10000)"
            ]
          },
          "metadata": {},
          "execution_count": 7
        }
      ]
    },
    {
      "cell_type": "code",
      "source": [
        "train_images.shape, train_labels.shape"
      ],
      "metadata": {
        "colab": {
          "base_uri": "https://localhost:8080/"
        },
        "id": "11sQq2CqgiwX",
        "outputId": "cd92234f-b193-4b62-d5c6-57a9387b81b4"
      },
      "execution_count": 8,
      "outputs": [
        {
          "output_type": "execute_result",
          "data": {
            "text/plain": [
              "((60000, 28, 28), (60000,))"
            ]
          },
          "metadata": {},
          "execution_count": 8
        }
      ]
    },
    {
      "cell_type": "code",
      "source": [
        "type(train_images[0])"
      ],
      "metadata": {
        "colab": {
          "base_uri": "https://localhost:8080/"
        },
        "id": "ZVbK6IQfg26N",
        "outputId": "96d5cdb0-c540-4de2-ec42-a50a56a59583"
      },
      "execution_count": 9,
      "outputs": [
        {
          "output_type": "execute_result",
          "data": {
            "text/plain": [
              "numpy.ndarray"
            ]
          },
          "metadata": {},
          "execution_count": 9
        }
      ]
    },
    {
      "cell_type": "code",
      "source": [
        "train_images[0].shape"
      ],
      "metadata": {
        "colab": {
          "base_uri": "https://localhost:8080/"
        },
        "id": "GG-Ed28vgl_m",
        "outputId": "e2b81ceb-4be9-459c-a581-e739bf28e0af"
      },
      "execution_count": 10,
      "outputs": [
        {
          "output_type": "execute_result",
          "data": {
            "text/plain": [
              "(28, 28)"
            ]
          },
          "metadata": {},
          "execution_count": 10
        }
      ]
    },
    {
      "cell_type": "code",
      "source": [
        "plt.imshow(train_images[90])\n",
        "plt.show()"
      ],
      "metadata": {
        "colab": {
          "base_uri": "https://localhost:8080/",
          "height": 430
        },
        "id": "3WsY9zr4g980",
        "outputId": "49c7340e-611c-435e-de6a-4b37d1b0f565"
      },
      "execution_count": 11,
      "outputs": [
        {
          "output_type": "display_data",
          "data": {
            "text/plain": [
              "<Figure size 640x480 with 1 Axes>"
            ],
            "image/png": "[encoded data removed]"
          },
          "metadata": {}
        }
      ]
    },
    {
      "cell_type": "code",
      "source": [
        "train_labels[90]"
      ],
      "metadata": {
        "colab": {
          "base_uri": "https://localhost:8080/"
        },
        "id": "FiFwqaJUhaaJ",
        "outputId": "e38104b3-2fbf-454c-accf-dd9e62e29702"
      },
      "execution_count": 12,
      "outputs": [
        {
          "output_type": "execute_result",
          "data": {
            "text/plain": [
              "9"
            ]
          },
          "metadata": {},
          "execution_count": 12
        }
      ]
    },
    {
      "cell_type": "code",
      "source": [
        "np.unique(train_labels)"
      ],
      "metadata": {
        "colab": {
          "base_uri": "https://localhost:8080/"
        },
        "id": "leUQ9IE8hDN3",
        "outputId": "f6065aba-c0be-45d3-b7c3-49366f84040e"
      },
      "execution_count": 13,
      "outputs": [
        {
          "output_type": "execute_result",
          "data": {
            "text/plain": [
              "array([0, 1, 2, 3, 4, 5, 6, 7, 8, 9], dtype=uint8)"
            ]
          },
          "metadata": {},
          "execution_count": 13
        }
      ]
    },
    {
      "cell_type": "code",
      "source": [
        "# Normalize the pixelz values to be between 0 and 1\n",
        "train_images = train_images / 255\n",
        "test_images = test_images / 255"
      ],
      "metadata": {
        "id": "AsEYVdRChstz"
      },
      "execution_count": 14,
      "outputs": []
    },
    {
      "cell_type": "code",
      "source": [
        "# Reshape images to specify that it's a single channel (grayscale)\n",
        "train_images = train_images.reshape(len(train_images), 28, 28, 1)\n",
        "test_images = test_images.reshape(len(test_images), 28, 28, 1)"
      ],
      "metadata": {
        "id": "gW_CmIF3iNrl"
      },
      "execution_count": 15,
      "outputs": []
    },
    {
      "cell_type": "code",
      "source": [
        "train_images.shape, test_images.shape"
      ],
      "metadata": {
        "colab": {
          "base_uri": "https://localhost:8080/"
        },
        "id": "h8NpKhAXjEEr",
        "outputId": "e9b4d9d8-1eff-4c5c-ca0f-5fe3a86a3033"
      },
      "execution_count": 16,
      "outputs": [
        {
          "output_type": "execute_result",
          "data": {
            "text/plain": [
              "((60000, 28, 28, 1), (10000, 28, 28, 1))"
            ]
          },
          "metadata": {},
          "execution_count": 16
        }
      ]
    },
    {
      "cell_type": "markdown",
      "source": [
        "**Building the CNN**"
      ],
      "metadata": {
        "id": "g79IORUCjZGg"
      }
    },
    {
      "cell_type": "code",
      "source": [
        "num_of_classes = 10"
      ],
      "metadata": {
        "id": "9TRpN_WjkdtD"
      },
      "execution_count": 17,
      "outputs": []
    },
    {
      "cell_type": "code",
      "source": [
        "model = models.Sequential([\n",
        "    layers.Conv2D(32, kernel_size=(3, 3), activation=\"relu\", input_shape=(28, 28, 1)),\n",
        "    layers.MaxPooling2D((2, 2)),\n",
        "    layers.Conv2D(64, kernel_size=(3, 3), activation=\"relu\"),\n",
        "    layers.MaxPooling2D((2, 2)),\n",
        "    layers.Conv2D(64, kernel_size=(3, 3), activation=\"relu\"),\n",
        "    #Add the Dense layers on Top\n",
        "    layers.Flatten(),\n",
        "    layers.Dense(64, activation=\"relu\"),\n",
        "    layers.Dense(num_of_classes, activation=\"softmax\")\n",
        "])"
      ],
      "metadata": {
        "id": "u8xv5ODxjOMx"
      },
      "execution_count": 37,
      "outputs": []
    },
    {
      "cell_type": "code",
      "source": [
        "model.compile(optimizer=\"adam\", loss=\"sparse_categorical_crossentropy\", metrics=[\"accuracy\"])"
      ],
      "metadata": {
        "id": "cK2_xl3jkhFx"
      },
      "execution_count": 38,
      "outputs": []
    },
    {
      "cell_type": "code",
      "source": [
        "early_stopping = tf.keras.callbacks.EarlyStopping(\n",
        "    monitor=\"val_loss\",\n",
        "    min_delta=0.0001,\n",
        "    patience=3,\n",
        "    verbose=1,\n",
        "    mode=\"auto\",\n",
        "    baseline=None,\n",
        "    restore_best_weights=False,\n",
        ")"
      ],
      "metadata": {
        "id": "F7qAa_gOn4Je"
      },
      "execution_count": 39,
      "outputs": []
    },
    {
      "cell_type": "code",
      "source": [
        "history = model.fit(train_images, train_labels, validation_data=[test_images, test_labels], epochs=100, batch_size=5000, callbacks=early_stopping)"
      ],
      "metadata": {
        "colab": {
          "base_uri": "https://localhost:8080/"
        },
        "id": "KdGfPlzDmHyG",
        "outputId": "aed757dc-f0da-40c5-8668-e0fc78f7cc57"
      },
      "execution_count": 40,
      "outputs": [
        {
          "output_type": "stream",
          "name": "stdout",
          "text": [
            "Epoch 1/100\n",
            "12/12 [==============================] - 5s 97ms/step - loss: 2.0469 - accuracy: 0.4031 - val_loss: 1.5069 - val_accuracy: 0.5539\n",
            "Epoch 2/100\n",
            "12/12 [==============================] - 1s 74ms/step - loss: 1.1013 - accuracy: 0.6376 - val_loss: 0.8805 - val_accuracy: 0.6753\n",
            "Epoch 3/100\n",
            "12/12 [==============================] - 1s 75ms/step - loss: 0.8038 - accuracy: 0.7015 - val_loss: 0.7614 - val_accuracy: 0.7221\n",
            "Epoch 4/100\n",
            "12/12 [==============================] - 1s 75ms/step - loss: 0.7089 - accuracy: 0.7353 - val_loss: 0.6928 - val_accuracy: 0.7395\n",
            "Epoch 5/100\n",
            "12/12 [==============================] - 1s 76ms/step - loss: 0.6459 - accuracy: 0.7582 - val_loss: 0.6391 - val_accuracy: 0.7620\n",
            "Epoch 6/100\n",
            "12/12 [==============================] - 1s 77ms/step - loss: 0.5991 - accuracy: 0.7743 - val_loss: 0.5964 - val_accuracy: 0.7797\n",
            "Epoch 7/100\n",
            "12/12 [==============================] - 1s 81ms/step - loss: 0.5636 - accuracy: 0.7879 - val_loss: 0.5706 - val_accuracy: 0.7880\n",
            "Epoch 8/100\n",
            "12/12 [==============================] - 1s 82ms/step - loss: 0.5391 - accuracy: 0.7989 - val_loss: 0.5440 - val_accuracy: 0.8016\n",
            "Epoch 9/100\n",
            "12/12 [==============================] - 1s 81ms/step - loss: 0.5159 - accuracy: 0.8077 - val_loss: 0.5246 - val_accuracy: 0.8097\n",
            "Epoch 10/100\n",
            "12/12 [==============================] - 1s 76ms/step - loss: 0.4950 - accuracy: 0.8192 - val_loss: 0.5082 - val_accuracy: 0.8148\n",
            "Epoch 11/100\n",
            "12/12 [==============================] - 1s 76ms/step - loss: 0.4770 - accuracy: 0.8285 - val_loss: 0.4902 - val_accuracy: 0.8229\n",
            "Epoch 12/100\n",
            "12/12 [==============================] - 1s 77ms/step - loss: 0.4599 - accuracy: 0.8334 - val_loss: 0.4747 - val_accuracy: 0.8287\n",
            "Epoch 13/100\n",
            "12/12 [==============================] - 1s 79ms/step - loss: 0.4452 - accuracy: 0.8399 - val_loss: 0.4667 - val_accuracy: 0.8280\n",
            "Epoch 14/100\n",
            "12/12 [==============================] - 1s 76ms/step - loss: 0.4345 - accuracy: 0.8435 - val_loss: 0.4464 - val_accuracy: 0.8382\n",
            "Epoch 15/100\n",
            "12/12 [==============================] - 1s 78ms/step - loss: 0.4247 - accuracy: 0.8480 - val_loss: 0.4378 - val_accuracy: 0.8449\n",
            "Epoch 16/100\n",
            "12/12 [==============================] - 1s 77ms/step - loss: 0.4134 - accuracy: 0.8529 - val_loss: 0.4292 - val_accuracy: 0.8437\n",
            "Epoch 17/100\n",
            "12/12 [==============================] - 1s 78ms/step - loss: 0.4016 - accuracy: 0.8576 - val_loss: 0.4221 - val_accuracy: 0.8513\n",
            "Epoch 18/100\n",
            "12/12 [==============================] - 1s 76ms/step - loss: 0.4007 - accuracy: 0.8564 - val_loss: 0.4126 - val_accuracy: 0.8495\n",
            "Epoch 19/100\n",
            "12/12 [==============================] - 1s 77ms/step - loss: 0.3927 - accuracy: 0.8587 - val_loss: 0.4056 - val_accuracy: 0.8574\n",
            "Epoch 20/100\n",
            "12/12 [==============================] - 1s 77ms/step - loss: 0.3773 - accuracy: 0.8666 - val_loss: 0.4065 - val_accuracy: 0.8522\n",
            "Epoch 21/100\n",
            "12/12 [==============================] - 1s 81ms/step - loss: 0.3785 - accuracy: 0.8651 - val_loss: 0.3974 - val_accuracy: 0.8567\n",
            "Epoch 22/100\n",
            "12/12 [==============================] - 1s 81ms/step - loss: 0.3738 - accuracy: 0.8656 - val_loss: 0.3920 - val_accuracy: 0.8601\n",
            "Epoch 23/100\n",
            "12/12 [==============================] - 1s 82ms/step - loss: 0.3747 - accuracy: 0.8651 - val_loss: 0.3988 - val_accuracy: 0.8559\n",
            "Epoch 24/100\n",
            "12/12 [==============================] - 1s 78ms/step - loss: 0.3608 - accuracy: 0.8708 - val_loss: 0.3771 - val_accuracy: 0.8669\n",
            "Epoch 25/100\n",
            "12/12 [==============================] - 1s 77ms/step - loss: 0.3493 - accuracy: 0.8762 - val_loss: 0.3700 - val_accuracy: 0.8697\n",
            "Epoch 26/100\n",
            "12/12 [==============================] - 1s 77ms/step - loss: 0.3448 - accuracy: 0.8776 - val_loss: 0.3674 - val_accuracy: 0.8680\n",
            "Epoch 27/100\n",
            "12/12 [==============================] - 1s 77ms/step - loss: 0.3411 - accuracy: 0.8793 - val_loss: 0.3666 - val_accuracy: 0.8673\n",
            "Epoch 28/100\n",
            "12/12 [==============================] - 1s 77ms/step - loss: 0.3408 - accuracy: 0.8782 - val_loss: 0.3609 - val_accuracy: 0.8706\n",
            "Epoch 29/100\n",
            "12/12 [==============================] - 1s 79ms/step - loss: 0.3396 - accuracy: 0.8780 - val_loss: 0.3671 - val_accuracy: 0.8679\n",
            "Epoch 30/100\n",
            "12/12 [==============================] - 1s 79ms/step - loss: 0.3313 - accuracy: 0.8807 - val_loss: 0.3521 - val_accuracy: 0.8760\n",
            "Epoch 31/100\n",
            "12/12 [==============================] - 1s 77ms/step - loss: 0.3262 - accuracy: 0.8844 - val_loss: 0.3474 - val_accuracy: 0.8755\n",
            "Epoch 32/100\n",
            "12/12 [==============================] - 1s 77ms/step - loss: 0.3190 - accuracy: 0.8866 - val_loss: 0.3442 - val_accuracy: 0.8771\n",
            "Epoch 33/100\n",
            "12/12 [==============================] - 1s 77ms/step - loss: 0.3195 - accuracy: 0.8871 - val_loss: 0.3420 - val_accuracy: 0.8797\n",
            "Epoch 34/100\n",
            "12/12 [==============================] - 1s 79ms/step - loss: 0.3150 - accuracy: 0.8882 - val_loss: 0.3405 - val_accuracy: 0.8770\n",
            "Epoch 35/100\n",
            "12/12 [==============================] - 1s 83ms/step - loss: 0.3094 - accuracy: 0.8907 - val_loss: 0.3378 - val_accuracy: 0.8804\n",
            "Epoch 36/100\n",
            "12/12 [==============================] - 1s 82ms/step - loss: 0.3088 - accuracy: 0.8906 - val_loss: 0.3353 - val_accuracy: 0.8798\n",
            "Epoch 37/100\n",
            "12/12 [==============================] - 1s 80ms/step - loss: 0.3052 - accuracy: 0.8909 - val_loss: 0.3348 - val_accuracy: 0.8801\n",
            "Epoch 38/100\n",
            "12/12 [==============================] - 1s 77ms/step - loss: 0.3036 - accuracy: 0.8932 - val_loss: 0.3366 - val_accuracy: 0.8810\n",
            "Epoch 39/100\n",
            "12/12 [==============================] - 1s 76ms/step - loss: 0.2999 - accuracy: 0.8936 - val_loss: 0.3264 - val_accuracy: 0.8849\n",
            "Epoch 40/100\n",
            "12/12 [==============================] - 1s 77ms/step - loss: 0.2927 - accuracy: 0.8957 - val_loss: 0.3227 - val_accuracy: 0.8854\n",
            "Epoch 41/100\n",
            "12/12 [==============================] - 1s 76ms/step - loss: 0.2907 - accuracy: 0.8960 - val_loss: 0.3280 - val_accuracy: 0.8815\n",
            "Epoch 42/100\n",
            "12/12 [==============================] - 1s 78ms/step - loss: 0.2882 - accuracy: 0.8969 - val_loss: 0.3180 - val_accuracy: 0.8864\n",
            "Epoch 43/100\n",
            "12/12 [==============================] - 1s 76ms/step - loss: 0.2845 - accuracy: 0.8984 - val_loss: 0.3150 - val_accuracy: 0.8885\n",
            "Epoch 44/100\n",
            "12/12 [==============================] - 1s 78ms/step - loss: 0.2831 - accuracy: 0.8994 - val_loss: 0.3280 - val_accuracy: 0.8811\n",
            "Epoch 45/100\n",
            "12/12 [==============================] - 1s 78ms/step - loss: 0.2896 - accuracy: 0.8948 - val_loss: 0.3201 - val_accuracy: 0.8864\n",
            "Epoch 46/100\n",
            "12/12 [==============================] - 1s 77ms/step - loss: 0.2838 - accuracy: 0.8979 - val_loss: 0.3132 - val_accuracy: 0.8897\n",
            "Epoch 47/100\n",
            "12/12 [==============================] - 1s 78ms/step - loss: 0.2794 - accuracy: 0.8999 - val_loss: 0.3090 - val_accuracy: 0.8903\n",
            "Epoch 48/100\n",
            "12/12 [==============================] - 1s 78ms/step - loss: 0.2750 - accuracy: 0.9012 - val_loss: 0.3078 - val_accuracy: 0.8915\n",
            "Epoch 49/100\n",
            "12/12 [==============================] - 1s 82ms/step - loss: 0.2739 - accuracy: 0.9017 - val_loss: 0.3188 - val_accuracy: 0.8864\n",
            "Epoch 50/100\n",
            "12/12 [==============================] - 1s 79ms/step - loss: 0.2751 - accuracy: 0.9014 - val_loss: 0.3134 - val_accuracy: 0.8894\n",
            "Epoch 51/100\n",
            "12/12 [==============================] - 1s 80ms/step - loss: 0.2683 - accuracy: 0.9035 - val_loss: 0.3225 - val_accuracy: 0.8839\n",
            "Epoch 51: early stopping\n"
          ]
        }
      ]
    },
    {
      "cell_type": "code",
      "source": [
        "h = history\n",
        "plt.plot(h.history[\"loss\"], label=\"loss\")\n",
        "plt.plot(h.history[\"val_loss\"], label=\"val_loss\")\n",
        "plt.legend(loc=\"upper right\")\n",
        "plt.show()\n",
        "\n",
        "plt.plot(h.history[\"accuracy\"], label=\"accuracy\")\n",
        "plt.plot(h.history[\"val_accuracy\"], label=\"val_accuracy\")\n",
        "plt.legend(loc=\"lower right\")\n",
        "plt.show()"
      ],
      "metadata": {
        "colab": {
          "base_uri": "https://localhost:8080/",
          "height": 843
        },
        "id": "vCyXi6vHmiwt",
        "outputId": "b8795d58-e313-49bd-e6c9-0eaceb7d5ad1"
      },
      "execution_count": 41,
      "outputs": [
        {
          "output_type": "display_data",
          "data": {
            "text/plain": [
              "<Figure size 640x480 with 1 Axes>"
            ],
            "image/png": "[encoded data removed]"
          },
          "metadata": {}
        },
        {
          "output_type": "display_data",
          "data": {
            "text/plain": [
              "<Figure size 640x480 with 1 Axes>"
            ],
            "image/png": "[encoded data removed]"
          },
          "metadata": {}
        }
      ]
    },
    {
      "cell_type": "code",
      "source": [
        "trained_model = model.save(\"trained_model.h5\")"
      ],
      "metadata": {
        "colab": {
          "base_uri": "https://localhost:8080/"
        },
        "id": "sdHrT82TqgSR",
        "outputId": "419ea3db-d66b-4446-83b5-d10f124e003d"
      },
      "execution_count": 42,
      "outputs": [
        {
          "output_type": "stream",
          "name": "stderr",
          "text": [
            "/usr/local/lib/python3.10/dist-packages/keras/src/engine/training.py:3103: UserWarning: You are saving your model as an HDF5 file via `model.save()`. This file format is considered legacy. We recommend using instead the native Keras format, e.g. `model.save('my_model.keras')`.\n",
            "  saving_api.save_model(\n"
          ]
        }
      ]
    },
    {
      "cell_type": "code",
      "source": [],
      "metadata": {
        "id": "00LjbkKCtGXM"
      },
      "execution_count": null,
      "outputs": []
    }
  ]
}